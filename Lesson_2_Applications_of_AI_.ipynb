{
  "nbformat": 4,
  "nbformat_minor": 0,
  "metadata": {
    "colab": {
      "name": "13-10-21 Lesson 2 - Applications of AI -.ipynb",
      "provenance": [],
      "collapsed_sections": [],
      "include_colab_link": true
    },
    "kernelspec": {
      "name": "python3",
      "display_name": "Python 3"
    }
  },
  "cells": [
    {
      "cell_type": "markdown",
      "metadata": {
        "id": "view-in-github",
        "colab_type": "text"
      },
      "source": [
        "<a href=\"https://colab.research.google.com/github/tanuja1207/python/blob/main/Lesson_2_Applications_of_AI_.ipynb\" target=\"_parent\"><img src=\"https://colab.research.google.com/assets/colab-badge.svg\" alt=\"Open In Colab\"/></a>"
      ]
    },
    {
      "cell_type": "markdown",
      "metadata": {
        "id": "P1VJWamrn3p4"
      },
      "source": [
        "# Lesson 2: Applications of AI across Industries\n"
      ]
    },
    {
      "cell_type": "markdown",
      "metadata": {
        "id": "ht9NUoCVX2aO"
      },
      "source": [
        "---"
      ]
    },
    {
      "cell_type": "markdown",
      "metadata": {
        "id": "0kp2AUnRW3dt"
      },
      "source": [
        "### Teacher-Student Tasks\n",
        "\n",
        "In this class, we will learn different applications of AI in major fields as of 2021. This will allow us to understand the importance and scope of learning AI for different individuals and organizations.\n",
        "\n",
        "AI applications do not just yield better business results but also improves the human experience as a whole. Here are nine industries where companies are using AI to create a truly global impact.\n",
        "\n",
        "A - Automotive\n",
        "\n",
        "B - Bioscience\n",
        "\n",
        "C - Creative Services\n",
        "\n",
        "D - Data\n",
        "\n",
        "E - Education\n",
        "\n",
        "F - Finance\n",
        "\n",
        "G - Gaming\n",
        "\n",
        "H - Healthcare\n",
        "\n",
        "I - Internet of Things\n",
        "\n",
        "In this lesson, we will explore the following application areas of AI:\n",
        "1. Healthcare\n",
        "2. Finance\n",
        "3. E-commerce\n",
        "4. Engineering\n",
        "\n",
        "We will also discuss about the future of AI, autonomous driving, and manufacturing robots."
      ]
    },
    {
      "cell_type": "markdown",
      "metadata": {
        "id": "Q94JUi19X0Wm"
      },
      "source": [
        "---"
      ]
    },
    {
      "cell_type": "markdown",
      "metadata": {
        "id": "U1kAkea3F2HN"
      },
      "source": [
        "#### Task 1: AI in Healthcare\n",
        "\n",
        "\n",
        "AI is currently being used in a wide variety of healthcare services. Some of them are as follows:\n",
        "\n",
        "**1. Improving diagnostic process:** AI can accurately predict as well as diagnose the disease at a faster rate than many medical professionals. \n",
        "\n",
        "**For e.g:**  **PathAI** is an evolving technology that uses artificial intelligence for more accurate diagnosis. It aims at reducing errors in cancer diagnosis and improving the efficiency of individualized medical treatment.\n",
        "\n",
        "\n",
        "\n",
        "**2. AI-powered chatbots:**\n",
        "\n",
        "AI-powered chatbots can help both healthcare professionals as well as patients in many ways. These bots help physicians in giving proper diagnoses by asking patients a series of questions where the patient will select their answers from several choices.\n",
        "\n",
        "These interactive bots mimic human conversation through text chats and sometimes voice commands and allow patients to ask various questions related to appointments and bill payments, thereby reducing the burden of the medical providers.\n",
        "\n",
        "One such app is **Ada**. Ada uses AI to determine a patient's symptoms by asking questions like \"Where does it hurt?\". Ada keeps on learning more about the patient with every interaction.\n",
        "\n",
        "\n",
        "\n",
        "**3. Robotic surgery:**\n",
        "\n",
        "Robot-assisted surgery allows the doctors to perform some complex surgeries with more precision, flexibility, and control which otherwise was not possible with the conventional surgical processes.\n",
        "\n",
        "The robots use AI to analyze data from past surgeries to fabricate new surgical techniques. \n",
        "\n",
        "**For e.g:** A surgical robot, **Da Vinci** allows surgeons to perform complex surgeries using instruments with better control.\n",
        "\n",
        "<img src=\"https://s3-whjr-v2-prod-bucket.whjr.online/aafab906-d9b9-4c17-99be-21b46929a319.jpg\" height=300/>\n",
        "\n",
        "*Credits: https://commons.wikimedia.org/wiki/File:Da_Vinci_action_023874_10x7_150dpi.jpg*\n",
        "\n",
        "`Da Vinci image by Trend kim used under Creative Commons Attribution-Share Alike 3.0 Unported license.`\n"
      ]
    },
    {
      "cell_type": "markdown",
      "metadata": {
        "id": "IFdj1U1E7jez"
      },
      "source": [
        "---"
      ]
    },
    {
      "cell_type": "markdown",
      "metadata": {
        "id": "OHqLzXKI7xIa"
      },
      "source": [
        "#### Task 2: AI in Finance\n",
        "\n",
        "\n",
        "AI-based chatbots are being deployed in the Insurance sector to improve the customer experience and create insurance plans and products based on customers’ data.\n",
        "\n",
        "<img src=\"https://s3-whjr-v2-prod-bucket.whjr.online/b03b06f4-f62e-4f53-a1c3-64f9f38f931c.png\"/>\n",
        "\n",
        "Robo-advisors can analyze your social media activity, emails, and other personal data to identify the sectors and companies aligned to your long-term needs and objectives.\n",
        "\n",
        "Another important application of AI in the finance sector is fraud detection. For instance, Mastercard uses AI-based Decision Intelligence technology to detect fraudulent transactions by analyzing various data points."
      ]
    },
    {
      "cell_type": "markdown",
      "metadata": {
        "id": "MXDzIPxCNOuN"
      },
      "source": [
        "---"
      ]
    },
    {
      "cell_type": "markdown",
      "metadata": {
        "id": "yQ_s5aIIIw-B"
      },
      "source": [
        "#### Task 3: AI in E-Commerce\n",
        "\n",
        "Retail and E-commerce is perhaps the only space where the application of AI is the most observable to the majority of end-users. Being a competitive space, retail organizations always look-out for techniques to find patterns in consumer behavior and thereby align their strategy to outsmart their competitors.\n",
        "\n",
        "The product recommendations on your Amazon account are nothing but a real-time application of complex AI algorithms to determine which products you are more likely to buy.\n",
        "\n",
        "<img src=\"https://s3-whjr-v2-prod-bucket.whjr.online/48821f0d-0820-4a2e-b2e6-9379d45d1ec2.png\"/>\n",
        "\n",
        "AI applications are also increasingly being used to enhance the customer experience. For example, many of the chatbots available on e-commerce websites are powered by AI and programmed to provide instant answers to a range of common customer queries. \n"
      ]
    },
    {
      "cell_type": "markdown",
      "metadata": {
        "id": "9mMPYL06-vH5"
      },
      "source": [
        "\n",
        "---\n",
        "\n",
        "\n"
      ]
    },
    {
      "cell_type": "markdown",
      "metadata": {
        "id": "IHJ-U9pKN6tU"
      },
      "source": [
        "#### Task 4: AI in Engineering\n",
        "\n",
        "Nowadays, AI is playing a critical role in the field of engineering. AI techniques are widely used by engineers to solve a whole range of complicated problems. Some of the application areas of AI in the field of engineering are as follows:\n",
        "\n",
        "**1. Collaborative Manufacturing:** The manufacturing industries have adopted AI to identify any flaws as well as to reduce equipment downtime.\n",
        "\n",
        "**2. Predictive Maintenance:** AI is being extensively used by machines to constantly report their status which is help maintain machines. It saves time and labor costs and also provides better performance.\n",
        "\n",
        "**3. AI Enhanced Robotics:** AI technology had boost assembly line production wherein the robots can recognize different parts and adjust their moves accordingly."
      ]
    },
    {
      "cell_type": "markdown",
      "metadata": {
        "id": "FD_SBD9pSTz_"
      },
      "source": [
        "---"
      ]
    },
    {
      "cell_type": "markdown",
      "metadata": {
        "id": "EMJpd08dSUwD"
      },
      "source": [
        "#### Task 5: Research Areas in AI\n",
        "\n",
        "Research in AI is expected to increase eventually as many AI use cases such as industrial robots, AI-powered medical diagnosis, chatbots are already popular and is widely used.\n",
        "\n",
        "Let us look into some \"hot\" areas of research that can further contribute to boosting AI technology:\n",
        "\n",
        "**1. Extended Machine Learning:** \n",
        "- The progress in AI in the last decade had made a significant contribution to the progress of **Machine Learning (ML)**. \n",
        "- Many basic problems in ML can be easily solved using existing algorithms of ML.\n",
        "- However, the researchers are now focussing on scaling existing algorithms to work with large datasets. In this case, AI is used synchronously with ML to develop state-of-the-art ML algorithms.\n",
        "- **For e.g:** **Google Maps** extensively uses AI in their machine learning models to predict whether the traffic along a route is heavy or light, an estimated travel time, and an estimated time of arrival (ETA).\n",
        "\n",
        "**2. Internet of Things (IoT):**\n",
        "- One of the trending technology, IoT will work in integration with AI in the future.\n",
        "- The large amount of data collected by cameras, microphones, and other sensors can be used by intelligent devices to perform many tasks without human intervention.\n",
        "- **For e.g:** A smart city is one of the applications where AI and IoT intersect.  Traffic monitoring by drones in real-time can be done to reduce congestion.\n",
        "The IoT based infrstructure can analyze data, make decisions, and act on that data without involvement by humans.\n",
        "\n",
        "\n",
        "\n",
        "**3. Natural Language Processing (NLP):**\n",
        "\n",
        "- NLP is concerned with interactions between computers and human (natural) languages. \n",
        "- NLP consists of tasks like speech recognition, natural language understanding, generation, and translation. \n",
        "- Current NLP research includes developing chatbots that can interact with humans in real-time.\n",
        "\n",
        "- **For e.g: Amazon Alexa** is one of the most widely-used examples of NLP.\n",
        "\n",
        "  <img src=\"https://s3-whjr-v2-prod-bucket.whjr.online/c15755bb-4419-4593-9ad0-3dc10bdba075.jpg\" height=300/>\n",
        "\n",
        " *Credits: https://commons.wikimedia.org/wiki/File:Amazon_Alexa_-_Echo_Dot_(49675526278).jpg*\n",
        "\n",
        "`(Image by Epicsunwarrior used under Creative Commons Attribution 2.0 Generic license.)`\n",
        "\n",
        "\n",
        "\n",
        "\n",
        "\n",
        " \n",
        "\n",
        "\n"
      ]
    },
    {
      "cell_type": "markdown",
      "metadata": {
        "id": "mAIBYQb6caHW"
      },
      "source": [
        "\n",
        "In addition to these areas of research, let us explore some more popular use cases of AI.\n",
        "\n",
        "\n",
        "#### **Other Applications of AI:**\n",
        "\n",
        "\n",
        "**1. Autonomous Cars**\n",
        "\n",
        "\n",
        "> <img src=\"https://s3-whjr-v2-prod-bucket.whjr.online/527964c3-1c65-443d-a07c-61656648d6f6.jpg\" width=500/>\n",
        "\n",
        "> *Credits: https://en.wikipedia.org/wiki/File:Autonomous-driving-Barcelona.jpg* \n",
        "\n",
        "> `(Image by Eschenzweig used under Creative Commons Attribution-Share Alike 4.0 International license.)`\n",
        "\n",
        "> Autonomous vehicles can sense and navigate without human intervention.  Manufacturers like Tesla and Audi already manufacture semi-autonomous vehicles today, however, they still require drivers to control. This technology will rapidly improve to achieve fully automated driving. \n",
        "\n",
        "> More than 30 companies are spending billions to develop self-driving autonomous cars, and one estimate suggests autonomous vehicles will be a $42-billion market by 2025.\n",
        "\n",
        "**2. Autonomous trains:**\n",
        "\n",
        "> <img src=\"https://s3-whjr-v2-prod-bucket.whjr.online/988b5fc7-34c3-457f-9713-61878dc2d626.jpg\" width=500/>\n",
        "\n",
        "> *Credits: https://commons.wikimedia.org/wiki/File:CRRC_Autonomous-rail_Rapid_Transit_train_at_Metro_Trans_2018_(20180613150358).jpg*\n",
        "\n",
        "> `Image by N509FZ used under Creative Commons Attribution-Share Alike 4.0 International license.`\n",
        "\n",
        "> Autonomous trains or driverless trains operate automatically without any human intervention. They are monitored by a control station. \n",
        "In case of any obstacle in the route, a message is sent to the control center to stop the train. Due to an increase in traffic congestion on road, the need for autonomous trains has boosted the growth of the global market.\n",
        "\n",
        "> The leading companies known for autonomous train technology include General Electric, Hitachi Ltd., Kawasaki Heavy Industries, Mitsubishi Heavy Industries, and Thales Group.\n",
        "\n",
        "**3. Autonomous flights:**\n",
        "\n",
        "\n",
        "> Autonomous flights  reduce the operating costs of airlines and save fuel. They also support pilots in their decision-making. However, existing self-flying air vehicles will only execute inputs received from the pilots or the flight computer. \n",
        "\n",
        "> In the future, flights will not be partially automated or simply execute by taking instructions from the pilot. Instead, they will be fully autonomous — eliminating the need for a pilot.\n",
        "\n",
        "> To fully automate air vehicles, we need systems that can interpret risky situations and can plan and execute a safe path of motion. This is possible only using sensors, embedded software, and AI. \n",
        "\n",
        "> **Airbus** is one of the companies which promises to build safe and secure autonomous commercial aircraft applications. This Airbus Aircraft can Taxi, Take-off and Land automatically. \n",
        "\n",
        "><img src=\"https://s3-whjr-v2-prod-bucket.whjr.online/0bf1662b-ba19-4fbe-8118-3d122f958279.jpg\" width=500/>\n",
        "\n",
        "> *Credits: https://commons.wikimedia.org/wiki/File:ILA_2008_Airbus_A380_body.jpg*\n",
        "\n",
        "> `(Image by Iotatau used under Creative Commons Attribution-Share Alike 3.0 Unported license.)`"
      ]
    },
    {
      "cell_type": "markdown",
      "metadata": {
        "id": "_v6_T8D5ZY3e"
      },
      "source": [
        "---"
      ]
    },
    {
      "cell_type": "markdown",
      "metadata": {
        "id": "p0SvdoNJ7LtW"
      },
      "source": [
        "#### Task 6: Manufacturing Robots\n",
        "\n",
        "AI has started playing a major role in the manufacturing industry. Automated manufacturing solutions are being developed for providing maximum efficiency as well as a competitive advantage in the market. \n",
        "\n",
        "Manufacturing robots automate repetitive tasks, reduce margins of error to negligible rates, and enable human workers to focus on more productive areas of the operation.\n",
        "\n",
        "**For e.g:** **UR10** robots are used by Ford in Romania to grease camshafts, fill engines with oil, and perform quality inspections, thereby relieving employees from repetitive tasks.\n",
        "\n",
        "<img src=\"https://s3-whjr-v2-prod-bucket.whjr.online/aec47eeb-4888-4b74-b91b-acd9e66a007a.jpg\" width=500/>\n",
        "\n",
        " *Credits: https://commons.wikimedia.org/wiki/File:Robot_worker.jpg*\n",
        "\n",
        "`(Image by Mountain used under Creative Commons Attribution-Share Alike 3.0 Unported license.)`\n",
        "\n"
      ]
    },
    {
      "cell_type": "markdown",
      "metadata": {
        "id": "8wQl-PLv-A9E"
      },
      "source": [
        "---"
      ]
    }
  ]
}